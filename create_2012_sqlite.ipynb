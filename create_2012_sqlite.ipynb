{
 "cells": [
  {
   "cell_type": "code",
   "execution_count": 20,
   "id": "11457fc0",
   "metadata": {},
   "outputs": [
    {
     "name": "stderr",
     "output_type": "stream",
     "text": [
      "C:\\Users\\Chris\\anaconda3\\envs\\PythonData\\lib\\site-packages\\pandas\\core\\generic.py:2663: UserWarning: The spaces in these column names will not be changed. In pandas versions < 0.14, spaces were converted to underscores.\n",
      "  method=method,\n"
     ]
    }
   ],
   "source": [
    "import sqlite3\n",
    "import pandas as pd\n",
    "\n",
    "from pathlib import Path\n",
    "\n",
    "database_path = \"sqlite/2012_ev_data.sqlite\"\n",
    "Path(database_path).touch()\n",
    "\n",
    "conn = sqlite3.connect(database_path)\n",
    "c = conn.cursor()\n",
    "\n",
    "c.execute('''CREATE TABLE data_2012 (Fuel Type Code TEXT,\n",
    "  Station Name TEXT,\n",
    "  City TEXT,\n",
    "  State TEXT,\n",
    "  Status Code TEXT,\n",
    "  Latitude TEXT,\n",
    "  Longitude TEXT,\n",
    "  Groups With Access Code TEXT)''')\n",
    "\n",
    "\n",
    "csv_2012_ev_data = pd.read_csv(\"CSV_Data/2012_ev_data.csv\")\n",
    "csv_2012_ev_data.to_sql(\"2012_ev_data\", conn, if_exists='append', index=False)\n",
    "\n",
    "conn.close()\n"
   ]
  },
  {
   "cell_type": "code",
   "execution_count": null,
   "id": "0f1198b6",
   "metadata": {},
   "outputs": [],
   "source": []
  }
 ],
 "metadata": {
  "kernelspec": {
   "display_name": "PythonData",
   "language": "python",
   "name": "pythondata"
  },
  "language_info": {
   "codemirror_mode": {
    "name": "ipython",
    "version": 3
   },
   "file_extension": ".py",
   "mimetype": "text/x-python",
   "name": "python",
   "nbconvert_exporter": "python",
   "pygments_lexer": "ipython3",
   "version": "3.7.7"
  }
 },
 "nbformat": 4,
 "nbformat_minor": 5
}
