{
 "cells": [
  {
   "cell_type": "code",
   "execution_count": 19,
   "id": "a397fa36",
   "metadata": {},
   "outputs": [],
   "source": [
    "\n",
    "import csv\n",
    "import json"
   ]
  },
  {
   "cell_type": "code",
   "execution_count": 21,
   "id": "4c9684eb",
   "metadata": {},
   "outputs": [],
   "source": [
    "\n",
    "\n",
    "csv_filename = 'file.csv'\n",
    "json_filename = 'file.json'\n",
    "\n",
    "\n",
    "# Open the CSV file with the correct encoding\n",
    "with open(csv_filename, 'r', encoding='ISO-8859-1') as csv_file:\n",
    "    csv_reader = csv.reader(csv_file)\n",
    "\n",
    "    # Read the header row\n",
    "    headers = next(csv_reader)\n",
    "\n",
    "    # Create an empty list to hold the JSON data\n",
    "    json_data = []\n",
    "\n",
    "    # Convert each row to a dictionary and append to the list\n",
    "    for row in csv_reader:\n",
    "        json_data.append(dict(zip(headers, row)))\n",
    "\n",
    "# Save the JSON data to a file with indentation\n",
    "with open(json_filename, 'w') as json_file:\n",
    "    json.dump(json_data, json_file, indent=4)\n"
   ]
  },
  {
   "cell_type": "code",
   "execution_count": null,
   "id": "9bc7589d",
   "metadata": {},
   "outputs": [],
   "source": []
  }
 ],
 "metadata": {
  "kernelspec": {
   "display_name": "PythonData",
   "language": "python",
   "name": "pythondata"
  },
  "language_info": {
   "codemirror_mode": {
    "name": "ipython",
    "version": 3
   },
   "file_extension": ".py",
   "mimetype": "text/x-python",
   "name": "python",
   "nbconvert_exporter": "python",
   "pygments_lexer": "ipython3",
   "version": "3.7.7"
  }
 },
 "nbformat": 4,
 "nbformat_minor": 5
}
