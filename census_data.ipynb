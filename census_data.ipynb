{
 "cells": [
  {
   "cell_type": "code",
   "execution_count": 1,
   "id": "22792c9c",
   "metadata": {},
   "outputs": [],
   "source": [
    "# Import BeautifulSoup\n",
    "import requests\n",
    "from bs4 import BeautifulSoup\n",
    "import pandas as pd\n",
    "import json"
   ]
  },
  {
   "cell_type": "code",
   "execution_count": 2,
   "id": "781c73f5",
   "metadata": {},
   "outputs": [],
   "source": [
    "\n",
    "url = 'https://www.statsamerica.org/sip/rank_list.aspx?rank_label=pop1&ct=S18'\n",
    "response = requests.get(url)\n",
    "\n",
    "soup = BeautifulSoup(response.text, 'html.parser')\n",
    "\n",
    "# find the table on the page\n",
    "population_table = soup.find('table')\n",
    "\n",
    "df = pd.read_html(str(population_table))[0]\n"
   ]
  },
  {
   "cell_type": "code",
   "execution_count": 3,
   "id": "9121b664",
   "metadata": {},
   "outputs": [
    {
     "name": "stdout",
     "output_type": "stream",
     "text": [
      "    Rank                 State  FIPS Code  Population\n",
      "0      1            California       6000    39029342\n",
      "1      2                 Texas      48000    30029572\n",
      "2      3               Florida      12000    22244823\n",
      "3      4              New York      36000    19677151\n",
      "4      5          Pennsylvania      42000    12972008\n",
      "5      6              Illinois      17000    12582032\n",
      "6      7                  Ohio      39000    11756058\n",
      "7      8               Georgia      13000    10912876\n",
      "8      9        North Carolina      37000    10698973\n",
      "9     10              Michigan      26000    10034113\n",
      "10    11            New Jersey      34000     9261699\n",
      "11    12              Virginia      51000     8683619\n",
      "12    13            Washington      53000     7785786\n",
      "13    14               Arizona       4000     7359197\n",
      "14    15             Tennessee      47000     7051339\n",
      "15    16         Massachusetts      25000     6981974\n",
      "16    17               Indiana      18000     6833037\n",
      "17    18              Missouri      29000     6177957\n",
      "18    19              Maryland      24000     6164660\n",
      "19    20             Wisconsin      55000     5892539\n",
      "20    21              Colorado       8000     5839926\n",
      "21    22             Minnesota      27000     5717184\n",
      "22    23        South Carolina      45000     5282634\n",
      "23    24               Alabama       1000     5074296\n",
      "24    25             Louisiana      22000     4590241\n",
      "25    26              Kentucky      21000     4512310\n",
      "26    27                Oregon      41000     4240137\n",
      "27    28              Oklahoma      40000     4019800\n",
      "28    29           Connecticut       9000     3626205\n",
      "29    30                  Utah      49000     3380800\n",
      "30    31                  Iowa      19000     3200517\n",
      "31    32                Nevada      32000     3177772\n",
      "32    33              Arkansas       5000     3045637\n",
      "33    34           Mississippi      28000     2940057\n",
      "34    35                Kansas      20000     2937150\n",
      "35    36            New Mexico      35000     2113344\n",
      "36    37              Nebraska      31000     1967923\n",
      "37    38                 Idaho      16000     1939033\n",
      "38    39         West Virginia      54000     1775156\n",
      "39    40                Hawaii      15000     1440196\n",
      "40    41         New Hampshire      33000     1395231\n",
      "41    42                 Maine      23000     1385340\n",
      "42    43               Montana      30000     1122867\n",
      "43    44          Rhode Island      44000     1093734\n",
      "44    45              Delaware      10000     1018396\n",
      "45    46          South Dakota      46000      909824\n",
      "46    47          North Dakota      38000      779261\n",
      "47    48                Alaska       2000      733583\n",
      "48    49  District of Columbia      11000      671803\n",
      "49    50               Vermont      50000      647064\n",
      "50    51               Wyoming      56000      581381\n"
     ]
    }
   ],
   "source": [
    "print(df)"
   ]
  },
  {
   "cell_type": "code",
   "execution_count": 6,
   "id": "24b40a0b",
   "metadata": {},
   "outputs": [],
   "source": [
    "population_json = df.to_json(orient='records')\n"
   ]
  },
  {
   "cell_type": "code",
   "execution_count": 7,
   "id": "b7909b52",
   "metadata": {},
   "outputs": [
    {
     "name": "stdout",
     "output_type": "stream",
     "text": [
      "[{\"Rank\":1,\"State\":\"California\",\"FIPS Code\":6000,\"Population\":39029342},{\"Rank\":2,\"State\":\"Texas\",\"FIPS Code\":48000,\"Population\":30029572},{\"Rank\":3,\"State\":\"Florida\",\"FIPS Code\":12000,\"Population\":22244823},{\"Rank\":4,\"State\":\"New York\",\"FIPS Code\":36000,\"Population\":19677151},{\"Rank\":5,\"State\":\"Pennsylvania\",\"FIPS Code\":42000,\"Population\":12972008},{\"Rank\":6,\"State\":\"Illinois\",\"FIPS Code\":17000,\"Population\":12582032},{\"Rank\":7,\"State\":\"Ohio\",\"FIPS Code\":39000,\"Population\":11756058},{\"Rank\":8,\"State\":\"Georgia\",\"FIPS Code\":13000,\"Population\":10912876},{\"Rank\":9,\"State\":\"North Carolina\",\"FIPS Code\":37000,\"Population\":10698973},{\"Rank\":10,\"State\":\"Michigan\",\"FIPS Code\":26000,\"Population\":10034113},{\"Rank\":11,\"State\":\"New Jersey\",\"FIPS Code\":34000,\"Population\":9261699},{\"Rank\":12,\"State\":\"Virginia\",\"FIPS Code\":51000,\"Population\":8683619},{\"Rank\":13,\"State\":\"Washington\",\"FIPS Code\":53000,\"Population\":7785786},{\"Rank\":14,\"State\":\"Arizona\",\"FIPS Code\":4000,\"Population\":7359197},{\"Rank\":15,\"State\":\"Tennessee\",\"FIPS Code\":47000,\"Population\":7051339},{\"Rank\":16,\"State\":\"Massachusetts\",\"FIPS Code\":25000,\"Population\":6981974},{\"Rank\":17,\"State\":\"Indiana\",\"FIPS Code\":18000,\"Population\":6833037},{\"Rank\":18,\"State\":\"Missouri\",\"FIPS Code\":29000,\"Population\":6177957},{\"Rank\":19,\"State\":\"Maryland\",\"FIPS Code\":24000,\"Population\":6164660},{\"Rank\":20,\"State\":\"Wisconsin\",\"FIPS Code\":55000,\"Population\":5892539},{\"Rank\":21,\"State\":\"Colorado\",\"FIPS Code\":8000,\"Population\":5839926},{\"Rank\":22,\"State\":\"Minnesota\",\"FIPS Code\":27000,\"Population\":5717184},{\"Rank\":23,\"State\":\"South Carolina\",\"FIPS Code\":45000,\"Population\":5282634},{\"Rank\":24,\"State\":\"Alabama\",\"FIPS Code\":1000,\"Population\":5074296},{\"Rank\":25,\"State\":\"Louisiana\",\"FIPS Code\":22000,\"Population\":4590241},{\"Rank\":26,\"State\":\"Kentucky\",\"FIPS Code\":21000,\"Population\":4512310},{\"Rank\":27,\"State\":\"Oregon\",\"FIPS Code\":41000,\"Population\":4240137},{\"Rank\":28,\"State\":\"Oklahoma\",\"FIPS Code\":40000,\"Population\":4019800},{\"Rank\":29,\"State\":\"Connecticut\",\"FIPS Code\":9000,\"Population\":3626205},{\"Rank\":30,\"State\":\"Utah\",\"FIPS Code\":49000,\"Population\":3380800},{\"Rank\":31,\"State\":\"Iowa\",\"FIPS Code\":19000,\"Population\":3200517},{\"Rank\":32,\"State\":\"Nevada\",\"FIPS Code\":32000,\"Population\":3177772},{\"Rank\":33,\"State\":\"Arkansas\",\"FIPS Code\":5000,\"Population\":3045637},{\"Rank\":34,\"State\":\"Mississippi\",\"FIPS Code\":28000,\"Population\":2940057},{\"Rank\":35,\"State\":\"Kansas\",\"FIPS Code\":20000,\"Population\":2937150},{\"Rank\":36,\"State\":\"New Mexico\",\"FIPS Code\":35000,\"Population\":2113344},{\"Rank\":37,\"State\":\"Nebraska\",\"FIPS Code\":31000,\"Population\":1967923},{\"Rank\":38,\"State\":\"Idaho\",\"FIPS Code\":16000,\"Population\":1939033},{\"Rank\":39,\"State\":\"West Virginia\",\"FIPS Code\":54000,\"Population\":1775156},{\"Rank\":40,\"State\":\"Hawaii\",\"FIPS Code\":15000,\"Population\":1440196},{\"Rank\":41,\"State\":\"New Hampshire\",\"FIPS Code\":33000,\"Population\":1395231},{\"Rank\":42,\"State\":\"Maine\",\"FIPS Code\":23000,\"Population\":1385340},{\"Rank\":43,\"State\":\"Montana\",\"FIPS Code\":30000,\"Population\":1122867},{\"Rank\":44,\"State\":\"Rhode Island\",\"FIPS Code\":44000,\"Population\":1093734},{\"Rank\":45,\"State\":\"Delaware\",\"FIPS Code\":10000,\"Population\":1018396},{\"Rank\":46,\"State\":\"South Dakota\",\"FIPS Code\":46000,\"Population\":909824},{\"Rank\":47,\"State\":\"North Dakota\",\"FIPS Code\":38000,\"Population\":779261},{\"Rank\":48,\"State\":\"Alaska\",\"FIPS Code\":2000,\"Population\":733583},{\"Rank\":49,\"State\":\"District of Columbia\",\"FIPS Code\":11000,\"Population\":671803},{\"Rank\":50,\"State\":\"Vermont\",\"FIPS Code\":50000,\"Population\":647064},{\"Rank\":51,\"State\":\"Wyoming\",\"FIPS Code\":56000,\"Population\":581381}]\n"
     ]
    }
   ],
   "source": [
    "print(population_json)"
   ]
  },
  {
   "cell_type": "code",
   "execution_count": 9,
   "id": "2196ffc0",
   "metadata": {},
   "outputs": [],
   "source": [
    "with open('population_json.json', 'w') as f:\n",
    "    json.dump(population_json, f)"
   ]
  },
  {
   "cell_type": "code",
   "execution_count": null,
   "id": "3045b706",
   "metadata": {},
   "outputs": [],
   "source": []
  }
 ],
 "metadata": {
  "kernelspec": {
   "display_name": "PythonData",
   "language": "python",
   "name": "pythondata"
  },
  "language_info": {
   "codemirror_mode": {
    "name": "ipython",
    "version": 3
   },
   "file_extension": ".py",
   "mimetype": "text/x-python",
   "name": "python",
   "nbconvert_exporter": "python",
   "pygments_lexer": "ipython3",
   "version": "3.7.7"
  }
 },
 "nbformat": 4,
 "nbformat_minor": 5
}
