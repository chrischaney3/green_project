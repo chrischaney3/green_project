{
 "cells": [
  {
   "cell_type": "code",
   "execution_count": 3,
   "id": "a604dba1",
   "metadata": {},
   "outputs": [
    {
     "ename": "OperationalError",
     "evalue": "table data_2014 already exists",
     "output_type": "error",
     "traceback": [
      "\u001b[1;31m---------------------------------------------------------------------------\u001b[0m",
      "\u001b[1;31mOperationalError\u001b[0m                          Traceback (most recent call last)",
      "\u001b[1;32m~\\AppData\\Local\\Temp\\ipykernel_25920\\1550798668.py\u001b[0m in \u001b[0;36m<module>\u001b[1;34m\u001b[0m\n\u001b[0;32m     17\u001b[0m   \u001b[0mLatitude\u001b[0m \u001b[0mTEXT\u001b[0m\u001b[1;33m,\u001b[0m\u001b[1;33m\u001b[0m\u001b[1;33m\u001b[0m\u001b[0m\n\u001b[0;32m     18\u001b[0m   \u001b[0mLongitude\u001b[0m \u001b[0mTEXT\u001b[0m\u001b[1;33m,\u001b[0m\u001b[1;33m\u001b[0m\u001b[1;33m\u001b[0m\u001b[0m\n\u001b[1;32m---> 19\u001b[1;33m   Groups With Access Code TEXT)''')\n\u001b[0m\u001b[0;32m     20\u001b[0m \u001b[1;33m\u001b[0m\u001b[0m\n\u001b[0;32m     21\u001b[0m \u001b[1;33m\u001b[0m\u001b[0m\n",
      "\u001b[1;31mOperationalError\u001b[0m: table data_2014 already exists"
     ]
    }
   ],
   "source": [
    "import sqlite3\n",
    "import pandas as pd\n",
    "\n",
    "from pathlib import Path\n",
    "\n",
    "database_path = \"sqlite/2014_ev_data.sqlite\"\n",
    "Path(database_path).touch()\n",
    "\n",
    "conn = sqlite3.connect(database_path)\n",
    "c = conn.cursor()\n",
    "\n",
    "c.execute('''CREATE TABLE data_2014 (Fuel Type Code TEXT,\n",
    "  Station Name TEXT,\n",
    "  City TEXT,\n",
    "  State TEXT,\n",
    "  Status Code TEXT,\n",
    "  Latitude TEXT,\n",
    "  Longitude TEXT,\n",
    "  Groups With Access Code TEXT)''')\n",
    "\n",
    "\n",
    "csv_2014_ev_data = pd.read_csv(\"CSV_Data/2014_ev_data.csv\")\n",
    "csv_2014_ev_data.to_sql(\"2014_ev_data\", conn, if_exists='append', index=False)\n",
    "\n",
    "conn.close()\n"
   ]
  },
  {
   "cell_type": "code",
   "execution_count": null,
   "id": "a37089bf",
   "metadata": {},
   "outputs": [],
   "source": []
  }
 ],
 "metadata": {
  "kernelspec": {
   "display_name": "PythonData",
   "language": "python",
   "name": "pythondata"
  },
  "language_info": {
   "codemirror_mode": {
    "name": "ipython",
    "version": 3
   },
   "file_extension": ".py",
   "mimetype": "text/x-python",
   "name": "python",
   "nbconvert_exporter": "python",
   "pygments_lexer": "ipython3",
   "version": "3.7.7"
  }
 },
 "nbformat": 4,
 "nbformat_minor": 5
}
